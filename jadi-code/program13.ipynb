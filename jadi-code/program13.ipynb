{
 "cells": [
  {
   "cell_type": "markdown",
   "id": "41619ce0",
   "metadata": {},
   "source": [
    "## eular project number two\n",
    "this notebook for solve eular project number two"
   ]
  },
  {
   "cell_type": "code",
   "execution_count": 1,
   "id": "59d43f4a",
   "metadata": {},
   "outputs": [],
   "source": [
    "def IsEven(n):\n",
    "    if n % 2 == 0:\n",
    "        return True\n",
    "    else:\n",
    "        return False"
   ]
  },
  {
   "cell_type": "code",
   "execution_count": 7,
   "id": "95475f93",
   "metadata": {},
   "outputs": [
    {
     "name": "stdout",
     "output_type": "stream",
     "text": [
      "44\n"
     ]
    }
   ],
   "source": [
    "first = 1\n",
    "seccend = 2\n",
    "\n",
    "sum = 0\n",
    "\n",
    "while (first < 40):\n",
    "    if IsEven(first):\n",
    "        sum += first\n",
    "    first, seccend = seccend, (first + seccend)\n",
    "print(sum)"
   ]
  },
  {
   "cell_type": "code",
   "execution_count": null,
   "id": "82ed3984",
   "metadata": {},
   "outputs": [],
   "source": []
  }
 ],
 "metadata": {
  "kernelspec": {
   "display_name": "Python 3 (ipykernel)",
   "language": "python",
   "name": "python3"
  },
  "language_info": {
   "codemirror_mode": {
    "name": "ipython",
    "version": 3
   },
   "file_extension": ".py",
   "mimetype": "text/x-python",
   "name": "python",
   "nbconvert_exporter": "python",
   "pygments_lexer": "ipython3",
   "version": "3.8.5"
  }
 },
 "nbformat": 4,
 "nbformat_minor": 5
}
