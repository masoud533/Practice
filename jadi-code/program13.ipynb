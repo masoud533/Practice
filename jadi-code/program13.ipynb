{
 "cells": [
  {
   "cell_type": "markdown",
   "id": "20261739",
   "metadata": {},
   "source": [
    "## eular project number two\n",
    "this notebook for solve eular project number two"
   ]
  },
  {
   "cell_type": "code",
   "execution_count": 1,
   "id": "c75da7bd",
   "metadata": {},
   "outputs": [],
   "source": [
    "def IsEven(n):\n",
    "    if n % 2 == 0:\n",
    "        return True\n",
    "    else:\n",
    "        return False"
   ]
  },
  {
   "cell_type": "code",
   "execution_count": 11,
   "id": "be18ae0b",
   "metadata": {},
   "outputs": [
    {
     "name": "stdout",
     "output_type": "stream",
     "text": [
      "4613732\n"
     ]
    }
   ],
   "source": [
    "first = 1\n",
    "seccend = 2\n",
    "\n",
    "sum = 0\n",
    "\n",
    "while (first < 4*10**6):\n",
    "    #print('my first number is: ', first)\n",
    "    if IsEven(first):\n",
    "        #print(f\"==-----=> oh it is even:  {first}\")\n",
    "        sum += first\n",
    "        #print(f\"---------------> now the sum is: {sum}\")\n",
    "    first, seccend = seccend, (first + seccend)\n",
    "print(sum)"
   ]
  },
  {
   "cell_type": "code",
   "execution_count": null,
   "id": "81c3dde7",
   "metadata": {},
   "outputs": [],
   "source": []
  }
 ],
 "metadata": {
  "kernelspec": {
   "display_name": "Python 3 (ipykernel)",
   "language": "python",
   "name": "python3"
  },
  "language_info": {
   "codemirror_mode": {
    "name": "ipython",
    "version": 3
   },
   "file_extension": ".py",
   "mimetype": "text/x-python",
   "name": "python",
   "nbconvert_exporter": "python",
   "pygments_lexer": "ipython3",
   "version": "3.8.5"
  }
 },
 "nbformat": 4,
 "nbformat_minor": 5
}
