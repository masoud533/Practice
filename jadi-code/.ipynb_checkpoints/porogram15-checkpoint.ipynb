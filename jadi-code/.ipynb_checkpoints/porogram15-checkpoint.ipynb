{
 "cells": [
  {
   "cell_type": "code",
   "execution_count": 23,
   "id": "1aec6544",
   "metadata": {},
   "outputs": [],
   "source": [
    "import random\n",
    "import matplotlib.pyplot as plt"
   ]
  },
  {
   "cell_type": "code",
   "execution_count": 24,
   "id": "d487b162",
   "metadata": {},
   "outputs": [],
   "source": [
    "people = []\n",
    "for i in range(0, 50):\n",
    "    people.append(100)\n",
    "\n",
    "for beshkan in range(0, 700):\n",
    "    for person1 in range(0, 50):\n",
    "        person2 = random.randrange(0, 50)\n",
    "        while people[person2] == 0:\n",
    "            person2 = random.randrange(0, 50)\n",
    "        if people[person1] != 0:\n",
    "            #print(person1, person2)\n",
    "            people[person1] = people[person1] - 1\n",
    "            people[person2] = people[person2] + 1"
   ]
  },
  {
   "cell_type": "code",
   "execution_count": 25,
   "id": "7ee35874",
   "metadata": {},
   "outputs": [
    {
     "data": {
      "text/plain": [
       "[93,\n",
       " 77,\n",
       " 105,\n",
       " 106,\n",
       " 130,\n",
       " 59,\n",
       " 137,\n",
       " 114,\n",
       " 119,\n",
       " 94,\n",
       " 99,\n",
       " 88,\n",
       " 116,\n",
       " 100,\n",
       " 107,\n",
       " 123,\n",
       " 74,\n",
       " 83,\n",
       " 131,\n",
       " 112,\n",
       " 114,\n",
       " 96,\n",
       " 75,\n",
       " 89,\n",
       " 100,\n",
       " 80,\n",
       " 117,\n",
       " 126,\n",
       " 101,\n",
       " 91,\n",
       " 79,\n",
       " 115,\n",
       " 130,\n",
       " 116,\n",
       " 93,\n",
       " 107,\n",
       " 52,\n",
       " 119,\n",
       " 106,\n",
       " 80,\n",
       " 116,\n",
       " 98,\n",
       " 55,\n",
       " 65,\n",
       " 59,\n",
       " 105,\n",
       " 93,\n",
       " 103,\n",
       " 137,\n",
       " 116]"
      ]
     },
     "execution_count": 25,
     "metadata": {},
     "output_type": "execute_result"
    }
   ],
   "source": [
    "people"
   ]
  },
  {
   "cell_type": "code",
   "execution_count": null,
   "id": "c20e741c",
   "metadata": {},
   "outputs": [],
   "source": []
  }
 ],
 "metadata": {
  "kernelspec": {
   "display_name": "Python 3 (ipykernel)",
   "language": "python",
   "name": "python3"
  },
  "language_info": {
   "codemirror_mode": {
    "name": "ipython",
    "version": 3
   },
   "file_extension": ".py",
   "mimetype": "text/x-python",
   "name": "python",
   "nbconvert_exporter": "python",
   "pygments_lexer": "ipython3",
   "version": "3.8.5"
  }
 },
 "nbformat": 4,
 "nbformat_minor": 5
}
