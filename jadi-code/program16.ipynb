{
 "cells": [
  {
   "cell_type": "code",
   "execution_count": 1,
   "id": "9d08e4cd",
   "metadata": {},
   "outputs": [],
   "source": [
    "import random\n",
    "import matplotlib.pyplot as plt"
   ]
  },
  {
   "cell_type": "code",
   "execution_count": 18,
   "id": "73d45d96",
   "metadata": {},
   "outputs": [],
   "source": [
    "people = []\n",
    "for i in range(1, 51):\n",
    "    people.append(100)\n",
    "\n",
    "for beshkan in range(0, 100000):\n",
    "    for person1 in range(0, 50):\n",
    "        person2 = random.randrange(0, 50)\n",
    "        while people[person2] == 0:\n",
    "            person2 = random.randrange(0, 50)\n",
    "        if people[person1] != 0:\n",
    "            #print(person1, person2)\n",
    "            people[person1] = people[person1] - 1\n",
    "            people[person2] = people[person2] + 1\n",
    "people.sort()"
   ]
  },
  {
   "cell_type": "code",
   "execution_count": 19,
   "id": "8bee1499",
   "metadata": {},
   "outputs": [
    {
     "data": {
      "text/plain": [
       "<BarContainer object of 50 artists>"
      ]
     },
     "execution_count": 19,
     "metadata": {},
     "output_type": "execute_result"
    },
    {
     "data": {
      "image/png": "[encoded data removed]",
      "text/plain": [
       "<Figure size 640x480 with 1 Axes>"
      ]
     },
     "metadata": {},
     "output_type": "display_data"
    }
   ],
   "source": [
    "%matplotlib inline\n",
    "plt.bar(range(0,50), people)"
   ]
  },
  {
   "cell_type": "code",
   "execution_count": 5,
   "id": "01bc5252",
   "metadata": {},
   "outputs": [
    {
     "data": {
      "text/plain": [
       "[0,\n",
       " 40,\n",
       " 0,\n",
       " 134,\n",
       " 37,\n",
       " 107,\n",
       " 242,\n",
       " 17,\n",
       " 0,\n",
       " 152,\n",
       " 137,\n",
       " 158,\n",
       " 144,\n",
       " 0,\n",
       " 78,\n",
       " 352,\n",
       " 0,\n",
       " 251,\n",
       " 0,\n",
       " 0,\n",
       " 147,\n",
       " 34,\n",
       " 200,\n",
       " 100,\n",
       " 147,\n",
       " 0,\n",
       " 0,\n",
       " 75,\n",
       " 0,\n",
       " 304,\n",
       " 0,\n",
       " 160,\n",
       " 280,\n",
       " 152,\n",
       " 144,\n",
       " 0,\n",
       " 0,\n",
       " 66,\n",
       " 315,\n",
       " 0,\n",
       " 73,\n",
       " 57,\n",
       " 75,\n",
       " 237,\n",
       " 111,\n",
       " 176,\n",
       " 0,\n",
       " 168,\n",
       " 130,\n",
       " 0]"
      ]
     },
     "execution_count": 5,
     "metadata": {},
     "output_type": "execute_result"
    }
   ],
   "source": [
    "people"
   ]
  }
 ],
 "metadata": {
  "kernelspec": {
   "display_name": "Python 3 (ipykernel)",
   "language": "python",
   "name": "python3"
  },
  "language_info": {
   "codemirror_mode": {
    "name": "ipython",
    "version": 3
   },
   "file_extension": ".py",
   "mimetype": "text/x-python",
   "name": "python",
   "nbconvert_exporter": "python",
   "pygments_lexer": "ipython3",
   "version": "3.8.5"
  }
 },
 "nbformat": 4,
 "nbformat_minor": 5
}
